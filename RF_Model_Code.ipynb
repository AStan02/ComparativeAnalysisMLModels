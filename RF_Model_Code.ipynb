{
 "cells": [
  {
   "cell_type": "code",
   "execution_count": 1,
   "id": "ccfabc2b",
   "metadata": {},
   "outputs": [],
   "source": [
    "import pandas as pd\n",
    "import numpy as np\n",
    "from sklearn.ensemble import RandomForestRegressor\n",
    "from sklearn.preprocessing import MinMaxScaler\n",
    "from sklearn.metrics import mean_squared_error\n",
    "np.random.seed(42)"
   ]
  },
  {
   "cell_type": "code",
   "execution_count": 2,
   "id": "31b6c75c",
   "metadata": {},
   "outputs": [],
   "source": [
    "#Read in complete csv\n",
    "data = pd.read_csv('Air2009-2019_Complete.csv')"
   ]
  },
  {
   "cell_type": "code",
   "execution_count": 3,
   "id": "1de7e22b",
   "metadata": {},
   "outputs": [],
   "source": [
    "#Data normalization, normalizes each features in the range of 0-1\n",
    "scaler = MinMaxScaler(feature_range=(0, 1))\n",
    "data = scaler.fit_transform(data)"
   ]
  },
  {
   "cell_type": "code",
   "execution_count": 4,
   "id": "fb0d1942",
   "metadata": {},
   "outputs": [
    {
     "name": "stdout",
     "output_type": "stream",
     "text": [
      "57711\n",
      "19237\n",
      "19237\n"
     ]
    }
   ],
   "source": [
    "#Data split in a 60/20/20 ratio\n",
    "total_size = len(data)\n",
    "train_size = int(total_size * 0.6)\n",
    "val_size = int(total_size * 0.2)\n",
    "test_size = total_size - train_size - val_size\n",
    "\n",
    "train_df = data[:train_size]\n",
    "val_df = data[train_size:train_size+val_size]\n",
    "test_df = data[train_size+val_size:]\n",
    "print(len(train_df))\n",
    "print(len(val_df))\n",
    "print(len(test_df))"
   ]
  },
  {
   "cell_type": "code",
   "execution_count": 5,
   "id": "cf8fead1",
   "metadata": {},
   "outputs": [],
   "source": [
    "#Model Hyperpamater definition and assignment\n",
    "n_steps = 24\n",
    "n_features = 7\n",
    "n_estimators = 100\n",
    "max_depth = 10\n",
    "min_samples_split = 2\n",
    "min_samples_leaf = 2\n",
    "max_features = 0.75"
   ]
  },
  {
   "cell_type": "code",
   "execution_count": 6,
   "id": "4750927d",
   "metadata": {},
   "outputs": [],
   "source": [
    "#Function creates sequences from the data based on the amount of n_steps\n",
    "def sequence_data(data, n_steps):\n",
    "    x, y = [], []\n",
    "    for i in range(n_steps, len(data)):\n",
    "        x.append(data[i-n_steps:i, :])\n",
    "        y.append(data[i, 4]) #i,passenger column\n",
    "    x, y = np.array(x), np.array(y)\n",
    "    return x, y"
   ]
  },
  {
   "cell_type": "code",
   "execution_count": 7,
   "id": "e03380bb",
   "metadata": {},
   "outputs": [],
   "source": [
    "#Create sequences\n",
    "x_train, y_train = sequence_data(train_df, n_steps)\n",
    "x_val, y_val = sequence_data(val_df, n_steps)\n",
    "x_test, y_test = sequence_data(test_df, n_steps)"
   ]
  },
  {
   "cell_type": "code",
   "execution_count": 8,
   "id": "727fd583",
   "metadata": {},
   "outputs": [],
   "source": [
    "#Make input data 2D\n",
    "x_train = x_train.reshape(-1, n_steps * n_features)\n",
    "x_val = x_val.reshape(-1, n_steps * n_features)\n",
    "x_test = x_test.reshape(-1, n_steps * n_features)"
   ]
  },
  {
   "cell_type": "code",
   "execution_count": 9,
   "id": "ac55d8d4",
   "metadata": {},
   "outputs": [
    {
     "data": {
      "text/html": [
       "<style>#sk-container-id-1 {color: black;background-color: white;}#sk-container-id-1 pre{padding: 0;}#sk-container-id-1 div.sk-toggleable {background-color: white;}#sk-container-id-1 label.sk-toggleable__label {cursor: pointer;display: block;width: 100%;margin-bottom: 0;padding: 0.3em;box-sizing: border-box;text-align: center;}#sk-container-id-1 label.sk-toggleable__label-arrow:before {content: \"▸\";float: left;margin-right: 0.25em;color: #696969;}#sk-container-id-1 label.sk-toggleable__label-arrow:hover:before {color: black;}#sk-container-id-1 div.sk-estimator:hover label.sk-toggleable__label-arrow:before {color: black;}#sk-container-id-1 div.sk-toggleable__content {max-height: 0;max-width: 0;overflow: hidden;text-align: left;background-color: #f0f8ff;}#sk-container-id-1 div.sk-toggleable__content pre {margin: 0.2em;color: black;border-radius: 0.25em;background-color: #f0f8ff;}#sk-container-id-1 input.sk-toggleable__control:checked~div.sk-toggleable__content {max-height: 200px;max-width: 100%;overflow: auto;}#sk-container-id-1 input.sk-toggleable__control:checked~label.sk-toggleable__label-arrow:before {content: \"▾\";}#sk-container-id-1 div.sk-estimator input.sk-toggleable__control:checked~label.sk-toggleable__label {background-color: #d4ebff;}#sk-container-id-1 div.sk-label input.sk-toggleable__control:checked~label.sk-toggleable__label {background-color: #d4ebff;}#sk-container-id-1 input.sk-hidden--visually {border: 0;clip: rect(1px 1px 1px 1px);clip: rect(1px, 1px, 1px, 1px);height: 1px;margin: -1px;overflow: hidden;padding: 0;position: absolute;width: 1px;}#sk-container-id-1 div.sk-estimator {font-family: monospace;background-color: #f0f8ff;border: 1px dotted black;border-radius: 0.25em;box-sizing: border-box;margin-bottom: 0.5em;}#sk-container-id-1 div.sk-estimator:hover {background-color: #d4ebff;}#sk-container-id-1 div.sk-parallel-item::after {content: \"\";width: 100%;border-bottom: 1px solid gray;flex-grow: 1;}#sk-container-id-1 div.sk-label:hover label.sk-toggleable__label {background-color: #d4ebff;}#sk-container-id-1 div.sk-serial::before {content: \"\";position: absolute;border-left: 1px solid gray;box-sizing: border-box;top: 0;bottom: 0;left: 50%;z-index: 0;}#sk-container-id-1 div.sk-serial {display: flex;flex-direction: column;align-items: center;background-color: white;padding-right: 0.2em;padding-left: 0.2em;position: relative;}#sk-container-id-1 div.sk-item {position: relative;z-index: 1;}#sk-container-id-1 div.sk-parallel {display: flex;align-items: stretch;justify-content: center;background-color: white;position: relative;}#sk-container-id-1 div.sk-item::before, #sk-container-id-1 div.sk-parallel-item::before {content: \"\";position: absolute;border-left: 1px solid gray;box-sizing: border-box;top: 0;bottom: 0;left: 50%;z-index: -1;}#sk-container-id-1 div.sk-parallel-item {display: flex;flex-direction: column;z-index: 1;position: relative;background-color: white;}#sk-container-id-1 div.sk-parallel-item:first-child::after {align-self: flex-end;width: 50%;}#sk-container-id-1 div.sk-parallel-item:last-child::after {align-self: flex-start;width: 50%;}#sk-container-id-1 div.sk-parallel-item:only-child::after {width: 0;}#sk-container-id-1 div.sk-dashed-wrapped {border: 1px dashed gray;margin: 0 0.4em 0.5em 0.4em;box-sizing: border-box;padding-bottom: 0.4em;background-color: white;}#sk-container-id-1 div.sk-label label {font-family: monospace;font-weight: bold;display: inline-block;line-height: 1.2em;}#sk-container-id-1 div.sk-label-container {text-align: center;}#sk-container-id-1 div.sk-container {/* jupyter's `normalize.less` sets `[hidden] { display: none; }` but bootstrap.min.css set `[hidden] { display: none !important; }` so we also need the `!important` here to be able to override the default hidden behavior on the sphinx rendered scikit-learn.org. See: https://github.com/scikit-learn/scikit-learn/issues/21755 */display: inline-block !important;position: relative;}#sk-container-id-1 div.sk-text-repr-fallback {display: none;}</style><div id=\"sk-container-id-1\" class=\"sk-top-container\"><div class=\"sk-text-repr-fallback\"><pre>RandomForestRegressor(max_depth=10, max_features=0.75, min_samples_leaf=2,\n",
       "                      random_state=42)</pre><b>In a Jupyter environment, please rerun this cell to show the HTML representation or trust the notebook. <br />On GitHub, the HTML representation is unable to render, please try loading this page with nbviewer.org.</b></div><div class=\"sk-container\" hidden><div class=\"sk-item\"><div class=\"sk-estimator sk-toggleable\"><input class=\"sk-toggleable__control sk-hidden--visually\" id=\"sk-estimator-id-1\" type=\"checkbox\" checked><label for=\"sk-estimator-id-1\" class=\"sk-toggleable__label sk-toggleable__label-arrow\">RandomForestRegressor</label><div class=\"sk-toggleable__content\"><pre>RandomForestRegressor(max_depth=10, max_features=0.75, min_samples_leaf=2,\n",
       "                      random_state=42)</pre></div></div></div></div></div>"
      ],
      "text/plain": [
       "RandomForestRegressor(max_depth=10, max_features=0.75, min_samples_leaf=2,\n",
       "                      random_state=42)"
      ]
     },
     "execution_count": 9,
     "metadata": {},
     "output_type": "execute_result"
    }
   ],
   "source": [
    "#Model Architecture and fit\n",
    "rf_model = RandomForestRegressor(n_estimators=n_estimators, \n",
    "                                 max_depth=max_depth, \n",
    "                                 min_samples_split=min_samples_split, \n",
    "                                 min_samples_leaf=min_samples_leaf, \n",
    "                                 max_features=max_features, \n",
    "                                 random_state=42)\n",
    "rf_model.fit(x_train, y_train)"
   ]
  },
  {
   "cell_type": "code",
   "execution_count": 10,
   "id": "8be90ca1",
   "metadata": {},
   "outputs": [],
   "source": [
    "#Predictions for the three datasets\n",
    "y_train_pred_rf = rf_model.predict(x_train)\n",
    "y_val_pred_rf = rf_model.predict(x_val)\n",
    "y_test_pred_rf = rf_model.predict(x_test)\n"
   ]
  },
  {
   "cell_type": "code",
   "execution_count": 11,
   "id": "70cd942b",
   "metadata": {},
   "outputs": [
    {
     "name": "stdout",
     "output_type": "stream",
     "text": [
      "Train Score: 0.00209 MSE (0.04569 RMSE)\n",
      "Validation Score: 0.00409 MSE (0.06396 RMSE)\n",
      "Test Score: 0.00543 MSE (0.07368 RMSE)\n"
     ]
    }
   ],
   "source": [
    "#Calc MSE and RMSE\n",
    "train_mse_rf = mean_squared_error(y_train, y_train_pred_rf)\n",
    "val_mse_rf = mean_squared_error(y_val, y_val_pred_rf)\n",
    "test_mse_rf = mean_squared_error(y_test, y_test_pred_rf)\n",
    "print('Train Score: {:.5f} MSE ({:.5f} RMSE)'.format(train_mse_rf, np.sqrt(train_mse_rf)))\n",
    "print('Validation Score: {:.5f} MSE ({:.5f} RMSE)'.format(val_mse_rf, np.sqrt(val_mse_rf)))\n",
    "print('Test Score: {:.5f} MSE ({:.5f} RMSE)'.format(test_mse_rf, np.sqrt(test_mse_rf)))"
   ]
  },
  {
   "cell_type": "code",
   "execution_count": 12,
   "id": "8d06aca0",
   "metadata": {},
   "outputs": [],
   "source": [
    "#Dummy arrays\n",
    "y_test_dummy_rf = np.zeros((y_test.shape[0], 7))\n",
    "y_pred_dummy_rf = np.zeros((y_test_pred_rf.shape[0], 7))\n"
   ]
  },
  {
   "cell_type": "code",
   "execution_count": 13,
   "id": "282a3419",
   "metadata": {},
   "outputs": [],
   "source": [
    "#Insert passenger data to the dummy arrays\n",
    "y_test_dummy_rf[:, 4] = y_test.ravel()\n",
    "y_pred_dummy_rf[:, 4] = y_test_pred_rf.ravel()"
   ]
  },
  {
   "cell_type": "code",
   "execution_count": 14,
   "id": "c9494e41",
   "metadata": {},
   "outputs": [],
   "source": [
    "#Inverse the normalization\n",
    "y_test_inv_rf = np.round(scaler.inverse_transform(y_test_dummy_rf)[:, 4])\n",
    "y_pred_inv_rf = np.round(scaler.inverse_transform(y_pred_dummy_rf)[:, 4])\n"
   ]
  },
  {
   "cell_type": "code",
   "execution_count": 15,
   "id": "b6da6694",
   "metadata": {},
   "outputs": [
    {
     "name": "stdout",
     "output_type": "stream",
     "text": [
      "Index: 0, Actual: 1541.0, Predicted: 1152.0\n",
      "Index: 1, Actual: 2097.0, Predicted: 1928.0\n",
      "Index: 2, Actual: 2398.0, Predicted: 2324.0\n",
      "Index: 3, Actual: 2540.0, Predicted: 2580.0\n",
      "Index: 4, Actual: 4294.0, Predicted: 2973.0\n",
      "Index: 5, Actual: 5761.0, Predicted: 3738.0\n",
      "Index: 6, Actual: 5273.0, Predicted: 4776.0\n",
      "Index: 7, Actual: 6506.0, Predicted: 4822.0\n",
      "Index: 8, Actual: 6654.0, Predicted: 5697.0\n",
      "Index: 9, Actual: 6876.0, Predicted: 6510.0\n",
      "Index: 10, Actual: 7036.0, Predicted: 6690.0\n",
      "Index: 11, Actual: 7919.0, Predicted: 6337.0\n",
      "Index: 12, Actual: 7723.0, Predicted: 6432.0\n",
      "Index: 13, Actual: 6387.0, Predicted: 5592.0\n",
      "Index: 14, Actual: 5894.0, Predicted: 5069.0\n",
      "Index: 15, Actual: 4796.0, Predicted: 4248.0\n",
      "Index: 16, Actual: 2184.0, Predicted: 2144.0\n",
      "Index: 17, Actual: 499.0, Predicted: 639.0\n",
      "Index: 18, Actual: 181.0, Predicted: 58.0\n",
      "Index: 19, Actual: 0.0, Predicted: 58.0\n",
      "Index: 20, Actual: 0.0, Predicted: 17.0\n",
      "Index: 21, Actual: 0.0, Predicted: 18.0\n",
      "Index: 22, Actual: 99.0, Predicted: 71.0\n",
      "Index: 23, Actual: 1272.0, Predicted: 1383.0\n",
      "Index: 24, Actual: 5304.0, Predicted: 4566.0\n",
      "Index: 25, Actual: 7067.0, Predicted: 6582.0\n",
      "Index: 26, Actual: 5458.0, Predicted: 5059.0\n",
      "Index: 27, Actual: 4727.0, Predicted: 4557.0\n",
      "Index: 28, Actual: 4122.0, Predicted: 3722.0\n",
      "Index: 29, Actual: 4826.0, Predicted: 3428.0\n",
      "Index: 30, Actual: 4337.0, Predicted: 4744.0\n",
      "Index: 31, Actual: 5399.0, Predicted: 4417.0\n",
      "Index: 32, Actual: 5547.0, Predicted: 5163.0\n",
      "Index: 33, Actual: 5517.0, Predicted: 6550.0\n",
      "Index: 34, Actual: 5506.0, Predicted: 6522.0\n",
      "Index: 35, Actual: 5210.0, Predicted: 4834.0\n",
      "Index: 36, Actual: 5218.0, Predicted: 4647.0\n",
      "Index: 37, Actual: 3667.0, Predicted: 3704.0\n",
      "Index: 38, Actual: 3236.0, Predicted: 2915.0\n",
      "Index: 39, Actual: 1881.0, Predicted: 2172.0\n",
      "Index: 40, Actual: 943.0, Predicted: 1438.0\n",
      "Index: 41, Actual: 583.0, Predicted: 335.0\n",
      "Index: 42, Actual: 0.0, Predicted: 66.0\n",
      "Index: 43, Actual: 0.0, Predicted: 23.0\n",
      "Index: 44, Actual: 0.0, Predicted: 4.0\n",
      "Index: 45, Actual: 0.0, Predicted: 3.0\n",
      "Index: 46, Actual: 0.0, Predicted: 80.0\n",
      "Index: 47, Actual: 1333.0, Predicted: 1379.0\n"
     ]
    }
   ],
   "source": [
    "index = 0\n",
    "for i in range(48):\n",
    "    print(f\"Index: {index}, Actual: {y_test_inv_rf[i]}, Predicted: {y_pred_inv_rf[i]}\")\n",
    "    index += 1\n",
    "index = 0"
   ]
  },
  {
   "cell_type": "code",
   "execution_count": null,
   "id": "d49b6660",
   "metadata": {},
   "outputs": [],
   "source": []
  },
  {
   "cell_type": "code",
   "execution_count": null,
   "id": "ca27d67e",
   "metadata": {},
   "outputs": [],
   "source": []
  },
  {
   "cell_type": "code",
   "execution_count": null,
   "id": "d6675f78",
   "metadata": {},
   "outputs": [],
   "source": []
  }
 ],
 "metadata": {
  "kernelspec": {
   "display_name": "tf",
   "language": "python",
   "name": "tf"
  },
  "language_info": {
   "codemirror_mode": {
    "name": "ipython",
    "version": 3
   },
   "file_extension": ".py",
   "mimetype": "text/x-python",
   "name": "python",
   "nbconvert_exporter": "python",
   "pygments_lexer": "ipython3",
   "version": "3.9.16"
  }
 },
 "nbformat": 4,
 "nbformat_minor": 5
}
