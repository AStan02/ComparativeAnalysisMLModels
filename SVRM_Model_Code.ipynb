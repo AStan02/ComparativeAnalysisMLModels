{
 "cells": [
  {
   "cell_type": "code",
   "execution_count": 1,
   "id": "4ff0d48f",
   "metadata": {},
   "outputs": [],
   "source": [
    "import pandas as pd\n",
    "import numpy as np\n",
    "from sklearn.svm import SVR\n",
    "from sklearn.preprocessing import MinMaxScaler\n",
    "from sklearn.metrics import mean_squared_error\n",
    "np.random.seed(42)"
   ]
  },
  {
   "cell_type": "code",
   "execution_count": 2,
   "id": "5899b35f",
   "metadata": {},
   "outputs": [],
   "source": [
    "#Read in complete csv\n",
    "data = pd.read_csv('Air2009-2019_Complete.csv')"
   ]
  },
  {
   "cell_type": "code",
   "execution_count": 3,
   "id": "7c148a03",
   "metadata": {},
   "outputs": [],
   "source": [
    "#Data normalization, normalizes each features in the range of 0-1\n",
    "scaler = MinMaxScaler(feature_range=(0, 1))\n",
    "data = scaler.fit_transform(data)"
   ]
  },
  {
   "cell_type": "code",
   "execution_count": 4,
   "id": "b5b23fca",
   "metadata": {},
   "outputs": [
    {
     "name": "stdout",
     "output_type": "stream",
     "text": [
      "57711\n",
      "19237\n",
      "19237\n"
     ]
    }
   ],
   "source": [
    "#Data split in a 60/20/20 ratio\n",
    "total_size = len(data)\n",
    "train_size = int(total_size * 0.6)\n",
    "val_size = int(total_size * 0.2)\n",
    "test_size = total_size - train_size - val_size\n",
    "\n",
    "train_df = data[:train_size]\n",
    "val_df = data[train_size:train_size+val_size]\n",
    "test_df = data[train_size+val_size:]\n",
    "print(len(train_df))\n",
    "print(len(val_df))\n",
    "print(len(test_df))"
   ]
  },
  {
   "cell_type": "code",
   "execution_count": 5,
   "id": "9d335281",
   "metadata": {},
   "outputs": [],
   "source": [
    "#Model Hyperpamater definition and assignment\n",
    "n_steps = 24\n",
    "n_features = 7\n",
    "C = 1\n",
    "kernel = 'poly'\n",
    "degree = 2 \n",
    "gamma = 'scale'\n",
    "coef0 = 1\n",
    "epsilon = 0.01"
   ]
  },
  {
   "cell_type": "code",
   "execution_count": 6,
   "id": "5adf90f6",
   "metadata": {},
   "outputs": [],
   "source": [
    "#Function creates sequences from the data based on the amount of n_steps\n",
    "def sequence_data(data, n_steps):\n",
    "    x, y = [], []\n",
    "    for i in range(n_steps, len(data)):\n",
    "        x.append(data[i-n_steps:i, :])\n",
    "        y.append(data[i, 4]) #i,passenger column\n",
    "    x, y = np.array(x), np.array(y)\n",
    "    return x, y"
   ]
  },
  {
   "cell_type": "code",
   "execution_count": 7,
   "id": "b6145690",
   "metadata": {},
   "outputs": [],
   "source": [
    "#Create sequences\n",
    "x_train, y_train = sequence_data(train_df, n_steps)\n",
    "x_val, y_val = sequence_data(val_df, n_steps)\n",
    "x_test, y_test = sequence_data(test_df, n_steps)"
   ]
  },
  {
   "cell_type": "code",
   "execution_count": 8,
   "id": "88a55627",
   "metadata": {},
   "outputs": [],
   "source": [
    "#Make input data 2D\n",
    "x_train = x_train.reshape(-1, n_steps * n_features)\n",
    "x_val = x_val.reshape(-1, n_steps * n_features)\n",
    "x_test = x_test.reshape(-1, n_steps * n_features)"
   ]
  },
  {
   "cell_type": "code",
   "execution_count": 9,
   "id": "a34b43a5",
   "metadata": {},
   "outputs": [],
   "source": [
    "#Model Architecture\n",
    "svr = SVR(C=C, \n",
    "          kernel=kernel,\n",
    "          degree=degree,\n",
    "          gamma=gamma,\n",
    "          coef0=coef0,\n",
    "          epsilon=epsilon\n",
    "         )"
   ]
  },
  {
   "cell_type": "code",
   "execution_count": 10,
   "id": "b93a16e5",
   "metadata": {},
   "outputs": [
    {
     "data": {
      "text/html": [
       "<style>#sk-container-id-1 {color: black;background-color: white;}#sk-container-id-1 pre{padding: 0;}#sk-container-id-1 div.sk-toggleable {background-color: white;}#sk-container-id-1 label.sk-toggleable__label {cursor: pointer;display: block;width: 100%;margin-bottom: 0;padding: 0.3em;box-sizing: border-box;text-align: center;}#sk-container-id-1 label.sk-toggleable__label-arrow:before {content: \"▸\";float: left;margin-right: 0.25em;color: #696969;}#sk-container-id-1 label.sk-toggleable__label-arrow:hover:before {color: black;}#sk-container-id-1 div.sk-estimator:hover label.sk-toggleable__label-arrow:before {color: black;}#sk-container-id-1 div.sk-toggleable__content {max-height: 0;max-width: 0;overflow: hidden;text-align: left;background-color: #f0f8ff;}#sk-container-id-1 div.sk-toggleable__content pre {margin: 0.2em;color: black;border-radius: 0.25em;background-color: #f0f8ff;}#sk-container-id-1 input.sk-toggleable__control:checked~div.sk-toggleable__content {max-height: 200px;max-width: 100%;overflow: auto;}#sk-container-id-1 input.sk-toggleable__control:checked~label.sk-toggleable__label-arrow:before {content: \"▾\";}#sk-container-id-1 div.sk-estimator input.sk-toggleable__control:checked~label.sk-toggleable__label {background-color: #d4ebff;}#sk-container-id-1 div.sk-label input.sk-toggleable__control:checked~label.sk-toggleable__label {background-color: #d4ebff;}#sk-container-id-1 input.sk-hidden--visually {border: 0;clip: rect(1px 1px 1px 1px);clip: rect(1px, 1px, 1px, 1px);height: 1px;margin: -1px;overflow: hidden;padding: 0;position: absolute;width: 1px;}#sk-container-id-1 div.sk-estimator {font-family: monospace;background-color: #f0f8ff;border: 1px dotted black;border-radius: 0.25em;box-sizing: border-box;margin-bottom: 0.5em;}#sk-container-id-1 div.sk-estimator:hover {background-color: #d4ebff;}#sk-container-id-1 div.sk-parallel-item::after {content: \"\";width: 100%;border-bottom: 1px solid gray;flex-grow: 1;}#sk-container-id-1 div.sk-label:hover label.sk-toggleable__label {background-color: #d4ebff;}#sk-container-id-1 div.sk-serial::before {content: \"\";position: absolute;border-left: 1px solid gray;box-sizing: border-box;top: 0;bottom: 0;left: 50%;z-index: 0;}#sk-container-id-1 div.sk-serial {display: flex;flex-direction: column;align-items: center;background-color: white;padding-right: 0.2em;padding-left: 0.2em;position: relative;}#sk-container-id-1 div.sk-item {position: relative;z-index: 1;}#sk-container-id-1 div.sk-parallel {display: flex;align-items: stretch;justify-content: center;background-color: white;position: relative;}#sk-container-id-1 div.sk-item::before, #sk-container-id-1 div.sk-parallel-item::before {content: \"\";position: absolute;border-left: 1px solid gray;box-sizing: border-box;top: 0;bottom: 0;left: 50%;z-index: -1;}#sk-container-id-1 div.sk-parallel-item {display: flex;flex-direction: column;z-index: 1;position: relative;background-color: white;}#sk-container-id-1 div.sk-parallel-item:first-child::after {align-self: flex-end;width: 50%;}#sk-container-id-1 div.sk-parallel-item:last-child::after {align-self: flex-start;width: 50%;}#sk-container-id-1 div.sk-parallel-item:only-child::after {width: 0;}#sk-container-id-1 div.sk-dashed-wrapped {border: 1px dashed gray;margin: 0 0.4em 0.5em 0.4em;box-sizing: border-box;padding-bottom: 0.4em;background-color: white;}#sk-container-id-1 div.sk-label label {font-family: monospace;font-weight: bold;display: inline-block;line-height: 1.2em;}#sk-container-id-1 div.sk-label-container {text-align: center;}#sk-container-id-1 div.sk-container {/* jupyter's `normalize.less` sets `[hidden] { display: none; }` but bootstrap.min.css set `[hidden] { display: none !important; }` so we also need the `!important` here to be able to override the default hidden behavior on the sphinx rendered scikit-learn.org. See: https://github.com/scikit-learn/scikit-learn/issues/21755 */display: inline-block !important;position: relative;}#sk-container-id-1 div.sk-text-repr-fallback {display: none;}</style><div id=\"sk-container-id-1\" class=\"sk-top-container\"><div class=\"sk-text-repr-fallback\"><pre>SVR(C=1, coef0=1, degree=2, epsilon=0.01, kernel=&#x27;poly&#x27;)</pre><b>In a Jupyter environment, please rerun this cell to show the HTML representation or trust the notebook. <br />On GitHub, the HTML representation is unable to render, please try loading this page with nbviewer.org.</b></div><div class=\"sk-container\" hidden><div class=\"sk-item\"><div class=\"sk-estimator sk-toggleable\"><input class=\"sk-toggleable__control sk-hidden--visually\" id=\"sk-estimator-id-1\" type=\"checkbox\" checked><label for=\"sk-estimator-id-1\" class=\"sk-toggleable__label sk-toggleable__label-arrow\">SVR</label><div class=\"sk-toggleable__content\"><pre>SVR(C=1, coef0=1, degree=2, epsilon=0.01, kernel=&#x27;poly&#x27;)</pre></div></div></div></div></div>"
      ],
      "text/plain": [
       "SVR(C=1, coef0=1, degree=2, epsilon=0.01, kernel='poly')"
      ]
     },
     "execution_count": 10,
     "metadata": {},
     "output_type": "execute_result"
    }
   ],
   "source": [
    "#Fit training data\n",
    "svr.fit(x_train, y_train)"
   ]
  },
  {
   "cell_type": "code",
   "execution_count": 11,
   "id": "f2385464",
   "metadata": {},
   "outputs": [],
   "source": [
    "#Predictions for the three datasets\n",
    "y_train_pred = svr.predict(x_train)\n",
    "y_val_pred = svr.predict(x_val)\n",
    "y_test_pred = svr.predict(x_test)"
   ]
  },
  {
   "cell_type": "code",
   "execution_count": 12,
   "id": "b0278381",
   "metadata": {},
   "outputs": [
    {
     "name": "stdout",
     "output_type": "stream",
     "text": [
      "Train Score: 0.00264 MSE (0.05135 RMSE)\n",
      "Validation Score: 0.00395 MSE (0.06283 RMSE)\n",
      "Test Score: 0.00511 MSE (0.07147 RMSE)\n"
     ]
    }
   ],
   "source": [
    "#Calc MSE and RMSE\n",
    "train_mse = mean_squared_error(y_train, y_train_pred)\n",
    "val_mse = mean_squared_error(y_val, y_val_pred)\n",
    "test_mse = mean_squared_error(y_test, y_test_pred)\n",
    "print('Train Score: {:.5f} MSE ({:.5f} RMSE)'.format(train_mse, np.sqrt(train_mse)))\n",
    "print('Validation Score: {:.5f} MSE ({:.5f} RMSE)'.format(val_mse, np.sqrt(val_mse)))\n",
    "print('Test Score: {:.5f} MSE ({:.5f} RMSE)'.format(test_mse, np.sqrt(test_mse)))"
   ]
  },
  {
   "cell_type": "code",
   "execution_count": 13,
   "id": "7b5e02b2",
   "metadata": {},
   "outputs": [],
   "source": [
    "#Dummy arrays\n",
    "y_test_dummy = np.zeros((y_test.shape[0], 7))\n",
    "y_pred_dummy = np.zeros((y_test_pred.shape[0], 7))"
   ]
  },
  {
   "cell_type": "code",
   "execution_count": 14,
   "id": "b2148be6",
   "metadata": {},
   "outputs": [],
   "source": [
    "#Insert passenger data to the dummy arrays\n",
    "y_test_dummy[:, 4] = y_test.ravel()\n",
    "y_pred_dummy[:, 4] = y_test_pred.ravel()"
   ]
  },
  {
   "cell_type": "code",
   "execution_count": 15,
   "id": "2c2372f1",
   "metadata": {},
   "outputs": [],
   "source": [
    "#Inverse the normalization\n",
    "y_test_inv = np.round(scaler.inverse_transform(y_test_dummy)[:, 4])\n",
    "y_pred_inv = np.round(scaler.inverse_transform(y_pred_dummy)[:, 4])"
   ]
  },
  {
   "cell_type": "code",
   "execution_count": 16,
   "id": "87105d97",
   "metadata": {},
   "outputs": [
    {
     "name": "stdout",
     "output_type": "stream",
     "text": [
      "Index: 0, Actual: 1541.0, Predicted: 1701.0\n",
      "Index: 1, Actual: 2097.0, Predicted: 1859.0\n",
      "Index: 2, Actual: 2398.0, Predicted: 1801.0\n",
      "Index: 3, Actual: 2540.0, Predicted: 2749.0\n",
      "Index: 4, Actual: 4294.0, Predicted: 3357.0\n",
      "Index: 5, Actual: 5761.0, Predicted: 4147.0\n",
      "Index: 6, Actual: 5273.0, Predicted: 6533.0\n",
      "Index: 7, Actual: 6506.0, Predicted: 5609.0\n",
      "Index: 8, Actual: 6654.0, Predicted: 6395.0\n",
      "Index: 9, Actual: 6876.0, Predicted: 7080.0\n",
      "Index: 10, Actual: 7036.0, Predicted: 7590.0\n",
      "Index: 11, Actual: 7919.0, Predicted: 6912.0\n",
      "Index: 12, Actual: 7723.0, Predicted: 6582.0\n",
      "Index: 13, Actual: 6387.0, Predicted: 5708.0\n",
      "Index: 14, Actual: 5894.0, Predicted: 5746.0\n",
      "Index: 15, Actual: 4796.0, Predicted: 4433.0\n",
      "Index: 16, Actual: 2184.0, Predicted: 2071.0\n",
      "Index: 17, Actual: 499.0, Predicted: 297.0\n",
      "Index: 18, Actual: 181.0, Predicted: -147.0\n",
      "Index: 19, Actual: 0.0, Predicted: -63.0\n",
      "Index: 20, Actual: 0.0, Predicted: -110.0\n",
      "Index: 21, Actual: 0.0, Predicted: 8.0\n",
      "Index: 22, Actual: 99.0, Predicted: 275.0\n",
      "Index: 23, Actual: 1272.0, Predicted: 1561.0\n",
      "Index: 24, Actual: 5304.0, Predicted: 4544.0\n",
      "Index: 25, Actual: 7067.0, Predicted: 6701.0\n",
      "Index: 26, Actual: 5458.0, Predicted: 5203.0\n",
      "Index: 27, Actual: 4727.0, Predicted: 4909.0\n",
      "Index: 28, Actual: 4122.0, Predicted: 4059.0\n",
      "Index: 29, Actual: 4826.0, Predicted: 3603.0\n",
      "Index: 30, Actual: 4337.0, Predicted: 4678.0\n",
      "Index: 31, Actual: 5399.0, Predicted: 4575.0\n",
      "Index: 32, Actual: 5547.0, Predicted: 5663.0\n",
      "Index: 33, Actual: 5517.0, Predicted: 6622.0\n",
      "Index: 34, Actual: 5506.0, Predicted: 6595.0\n",
      "Index: 35, Actual: 5210.0, Predicted: 5259.0\n",
      "Index: 36, Actual: 5218.0, Predicted: 4740.0\n",
      "Index: 37, Actual: 3667.0, Predicted: 3402.0\n",
      "Index: 38, Actual: 3236.0, Predicted: 2759.0\n",
      "Index: 39, Actual: 1881.0, Predicted: 2040.0\n",
      "Index: 40, Actual: 943.0, Predicted: 1398.0\n",
      "Index: 41, Actual: 583.0, Predicted: 313.0\n",
      "Index: 42, Actual: 0.0, Predicted: -43.0\n",
      "Index: 43, Actual: 0.0, Predicted: -121.0\n",
      "Index: 44, Actual: 0.0, Predicted: -121.0\n",
      "Index: 45, Actual: 0.0, Predicted: -87.0\n",
      "Index: 46, Actual: 0.0, Predicted: -100.0\n",
      "Index: 47, Actual: 1333.0, Predicted: 1202.0\n"
     ]
    }
   ],
   "source": [
    "index = 0\n",
    "for i in range(48):\n",
    "    print(f\"Index: {index}, Actual: {y_test_inv[i]}, Predicted: {y_pred_inv[i]}\")\n",
    "    index += 1\n",
    "index = 0"
   ]
  }
 ],
 "metadata": {
  "kernelspec": {
   "display_name": "tf",
   "language": "python",
   "name": "tf"
  },
  "language_info": {
   "codemirror_mode": {
    "name": "ipython",
    "version": 3
   },
   "file_extension": ".py",
   "mimetype": "text/x-python",
   "name": "python",
   "nbconvert_exporter": "python",
   "pygments_lexer": "ipython3",
   "version": "3.9.16"
  }
 },
 "nbformat": 4,
 "nbformat_minor": 5
}
